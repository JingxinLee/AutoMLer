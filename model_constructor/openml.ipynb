{
 "cells": [
  {
   "cell_type": "code",
   "execution_count": 1,
   "metadata": {},
   "outputs": [
    {
     "data": {
      "text/html": [
       "<div>\n",
       "<style scoped>\n",
       "    .dataframe tbody tr th:only-of-type {\n",
       "        vertical-align: middle;\n",
       "    }\n",
       "\n",
       "    .dataframe tbody tr th {\n",
       "        vertical-align: top;\n",
       "    }\n",
       "\n",
       "    .dataframe thead th {\n",
       "        text-align: right;\n",
       "    }\n",
       "</style>\n",
       "<table border=\"1\" class=\"dataframe\">\n",
       "  <thead>\n",
       "    <tr style=\"text-align: right;\">\n",
       "      <th></th>\n",
       "      <th>did</th>\n",
       "      <th>name</th>\n",
       "      <th>version</th>\n",
       "      <th>uploader</th>\n",
       "      <th>status</th>\n",
       "      <th>format</th>\n",
       "      <th>MajorityClassSize</th>\n",
       "      <th>MaxNominalAttDistinctValues</th>\n",
       "      <th>MinorityClassSize</th>\n",
       "      <th>NumberOfClasses</th>\n",
       "      <th>NumberOfFeatures</th>\n",
       "      <th>NumberOfInstances</th>\n",
       "      <th>NumberOfInstancesWithMissingValues</th>\n",
       "      <th>NumberOfMissingValues</th>\n",
       "      <th>NumberOfNumericFeatures</th>\n",
       "      <th>NumberOfSymbolicFeatures</th>\n",
       "    </tr>\n",
       "  </thead>\n",
       "  <tbody>\n",
       "    <tr>\n",
       "      <th>2</th>\n",
       "      <td>2</td>\n",
       "      <td>anneal</td>\n",
       "      <td>1</td>\n",
       "      <td>1</td>\n",
       "      <td>active</td>\n",
       "      <td>ARFF</td>\n",
       "      <td>684.0</td>\n",
       "      <td>7.0</td>\n",
       "      <td>8.0</td>\n",
       "      <td>5.0</td>\n",
       "      <td>39.0</td>\n",
       "      <td>898.0</td>\n",
       "      <td>898.0</td>\n",
       "      <td>22175.0</td>\n",
       "      <td>6.0</td>\n",
       "      <td>33.0</td>\n",
       "    </tr>\n",
       "    <tr>\n",
       "      <th>3</th>\n",
       "      <td>3</td>\n",
       "      <td>kr-vs-kp</td>\n",
       "      <td>1</td>\n",
       "      <td>1</td>\n",
       "      <td>active</td>\n",
       "      <td>ARFF</td>\n",
       "      <td>1669.0</td>\n",
       "      <td>3.0</td>\n",
       "      <td>1527.0</td>\n",
       "      <td>2.0</td>\n",
       "      <td>37.0</td>\n",
       "      <td>3196.0</td>\n",
       "      <td>0.0</td>\n",
       "      <td>0.0</td>\n",
       "      <td>0.0</td>\n",
       "      <td>37.0</td>\n",
       "    </tr>\n",
       "    <tr>\n",
       "      <th>4</th>\n",
       "      <td>4</td>\n",
       "      <td>labor</td>\n",
       "      <td>1</td>\n",
       "      <td>1</td>\n",
       "      <td>active</td>\n",
       "      <td>ARFF</td>\n",
       "      <td>37.0</td>\n",
       "      <td>3.0</td>\n",
       "      <td>20.0</td>\n",
       "      <td>2.0</td>\n",
       "      <td>17.0</td>\n",
       "      <td>57.0</td>\n",
       "      <td>56.0</td>\n",
       "      <td>326.0</td>\n",
       "      <td>8.0</td>\n",
       "      <td>9.0</td>\n",
       "    </tr>\n",
       "    <tr>\n",
       "      <th>5</th>\n",
       "      <td>5</td>\n",
       "      <td>arrhythmia</td>\n",
       "      <td>1</td>\n",
       "      <td>1</td>\n",
       "      <td>active</td>\n",
       "      <td>ARFF</td>\n",
       "      <td>245.0</td>\n",
       "      <td>13.0</td>\n",
       "      <td>2.0</td>\n",
       "      <td>13.0</td>\n",
       "      <td>280.0</td>\n",
       "      <td>452.0</td>\n",
       "      <td>384.0</td>\n",
       "      <td>408.0</td>\n",
       "      <td>206.0</td>\n",
       "      <td>74.0</td>\n",
       "    </tr>\n",
       "    <tr>\n",
       "      <th>6</th>\n",
       "      <td>6</td>\n",
       "      <td>letter</td>\n",
       "      <td>1</td>\n",
       "      <td>1</td>\n",
       "      <td>active</td>\n",
       "      <td>ARFF</td>\n",
       "      <td>813.0</td>\n",
       "      <td>26.0</td>\n",
       "      <td>734.0</td>\n",
       "      <td>26.0</td>\n",
       "      <td>17.0</td>\n",
       "      <td>20000.0</td>\n",
       "      <td>0.0</td>\n",
       "      <td>0.0</td>\n",
       "      <td>16.0</td>\n",
       "      <td>1.0</td>\n",
       "    </tr>\n",
       "    <tr>\n",
       "      <th>...</th>\n",
       "      <td>...</td>\n",
       "      <td>...</td>\n",
       "      <td>...</td>\n",
       "      <td>...</td>\n",
       "      <td>...</td>\n",
       "      <td>...</td>\n",
       "      <td>...</td>\n",
       "      <td>...</td>\n",
       "      <td>...</td>\n",
       "      <td>...</td>\n",
       "      <td>...</td>\n",
       "      <td>...</td>\n",
       "      <td>...</td>\n",
       "      <td>...</td>\n",
       "      <td>...</td>\n",
       "      <td>...</td>\n",
       "    </tr>\n",
       "    <tr>\n",
       "      <th>45705</th>\n",
       "      <td>45705</td>\n",
       "      <td>cylinder-bands</td>\n",
       "      <td>4</td>\n",
       "      <td>869</td>\n",
       "      <td>active</td>\n",
       "      <td>ARFF</td>\n",
       "      <td>312.0</td>\n",
       "      <td>NaN</td>\n",
       "      <td>228.0</td>\n",
       "      <td>2.0</td>\n",
       "      <td>38.0</td>\n",
       "      <td>540.0</td>\n",
       "      <td>263.0</td>\n",
       "      <td>999.0</td>\n",
       "      <td>18.0</td>\n",
       "      <td>20.0</td>\n",
       "    </tr>\n",
       "    <tr>\n",
       "      <th>45706</th>\n",
       "      <td>45706</td>\n",
       "      <td>cylinder-bands</td>\n",
       "      <td>5</td>\n",
       "      <td>869</td>\n",
       "      <td>active</td>\n",
       "      <td>ARFF</td>\n",
       "      <td>312.0</td>\n",
       "      <td>NaN</td>\n",
       "      <td>228.0</td>\n",
       "      <td>2.0</td>\n",
       "      <td>38.0</td>\n",
       "      <td>540.0</td>\n",
       "      <td>263.0</td>\n",
       "      <td>999.0</td>\n",
       "      <td>18.0</td>\n",
       "      <td>20.0</td>\n",
       "    </tr>\n",
       "    <tr>\n",
       "      <th>45707</th>\n",
       "      <td>45707</td>\n",
       "      <td>cylinder-bands</td>\n",
       "      <td>6</td>\n",
       "      <td>1140</td>\n",
       "      <td>active</td>\n",
       "      <td>ARFF</td>\n",
       "      <td>312.0</td>\n",
       "      <td>NaN</td>\n",
       "      <td>228.0</td>\n",
       "      <td>2.0</td>\n",
       "      <td>38.0</td>\n",
       "      <td>540.0</td>\n",
       "      <td>263.0</td>\n",
       "      <td>999.0</td>\n",
       "      <td>18.0</td>\n",
       "      <td>20.0</td>\n",
       "    </tr>\n",
       "    <tr>\n",
       "      <th>45711</th>\n",
       "      <td>45711</td>\n",
       "      <td>doa_bwin</td>\n",
       "      <td>3</td>\n",
       "      <td>39327</td>\n",
       "      <td>active</td>\n",
       "      <td>arff</td>\n",
       "      <td>354.0</td>\n",
       "      <td>NaN</td>\n",
       "      <td>176.0</td>\n",
       "      <td>2.0</td>\n",
       "      <td>14.0</td>\n",
       "      <td>530.0</td>\n",
       "      <td>0.0</td>\n",
       "      <td>0.0</td>\n",
       "      <td>11.0</td>\n",
       "      <td>3.0</td>\n",
       "    </tr>\n",
       "    <tr>\n",
       "      <th>45712</th>\n",
       "      <td>45712</td>\n",
       "      <td>doa_bwin_balanced</td>\n",
       "      <td>1</td>\n",
       "      <td>39327</td>\n",
       "      <td>active</td>\n",
       "      <td>arff</td>\n",
       "      <td>354.0</td>\n",
       "      <td>NaN</td>\n",
       "      <td>354.0</td>\n",
       "      <td>2.0</td>\n",
       "      <td>14.0</td>\n",
       "      <td>708.0</td>\n",
       "      <td>0.0</td>\n",
       "      <td>0.0</td>\n",
       "      <td>11.0</td>\n",
       "      <td>3.0</td>\n",
       "    </tr>\n",
       "  </tbody>\n",
       "</table>\n",
       "<p>5401 rows × 16 columns</p>\n",
       "</div>"
      ],
      "text/plain": [
       "         did               name  version uploader  status format  \\\n",
       "2          2             anneal        1        1  active   ARFF   \n",
       "3          3           kr-vs-kp        1        1  active   ARFF   \n",
       "4          4              labor        1        1  active   ARFF   \n",
       "5          5         arrhythmia        1        1  active   ARFF   \n",
       "6          6             letter        1        1  active   ARFF   \n",
       "...      ...                ...      ...      ...     ...    ...   \n",
       "45705  45705     cylinder-bands        4      869  active   ARFF   \n",
       "45706  45706     cylinder-bands        5      869  active   ARFF   \n",
       "45707  45707     cylinder-bands        6     1140  active   ARFF   \n",
       "45711  45711           doa_bwin        3    39327  active   arff   \n",
       "45712  45712  doa_bwin_balanced        1    39327  active   arff   \n",
       "\n",
       "       MajorityClassSize  MaxNominalAttDistinctValues  MinorityClassSize  \\\n",
       "2                  684.0                          7.0                8.0   \n",
       "3                 1669.0                          3.0             1527.0   \n",
       "4                   37.0                          3.0               20.0   \n",
       "5                  245.0                         13.0                2.0   \n",
       "6                  813.0                         26.0              734.0   \n",
       "...                  ...                          ...                ...   \n",
       "45705              312.0                          NaN              228.0   \n",
       "45706              312.0                          NaN              228.0   \n",
       "45707              312.0                          NaN              228.0   \n",
       "45711              354.0                          NaN              176.0   \n",
       "45712              354.0                          NaN              354.0   \n",
       "\n",
       "       NumberOfClasses  NumberOfFeatures  NumberOfInstances  \\\n",
       "2                  5.0              39.0              898.0   \n",
       "3                  2.0              37.0             3196.0   \n",
       "4                  2.0              17.0               57.0   \n",
       "5                 13.0             280.0              452.0   \n",
       "6                 26.0              17.0            20000.0   \n",
       "...                ...               ...                ...   \n",
       "45705              2.0              38.0              540.0   \n",
       "45706              2.0              38.0              540.0   \n",
       "45707              2.0              38.0              540.0   \n",
       "45711              2.0              14.0              530.0   \n",
       "45712              2.0              14.0              708.0   \n",
       "\n",
       "       NumberOfInstancesWithMissingValues  NumberOfMissingValues  \\\n",
       "2                                   898.0                22175.0   \n",
       "3                                     0.0                    0.0   \n",
       "4                                    56.0                  326.0   \n",
       "5                                   384.0                  408.0   \n",
       "6                                     0.0                    0.0   \n",
       "...                                   ...                    ...   \n",
       "45705                               263.0                  999.0   \n",
       "45706                               263.0                  999.0   \n",
       "45707                               263.0                  999.0   \n",
       "45711                                 0.0                    0.0   \n",
       "45712                                 0.0                    0.0   \n",
       "\n",
       "       NumberOfNumericFeatures  NumberOfSymbolicFeatures  \n",
       "2                          6.0                      33.0  \n",
       "3                          0.0                      37.0  \n",
       "4                          8.0                       9.0  \n",
       "5                        206.0                      74.0  \n",
       "6                         16.0                       1.0  \n",
       "...                        ...                       ...  \n",
       "45705                     18.0                      20.0  \n",
       "45706                     18.0                      20.0  \n",
       "45707                     18.0                      20.0  \n",
       "45711                     11.0                       3.0  \n",
       "45712                     11.0                       3.0  \n",
       "\n",
       "[5401 rows x 16 columns]"
      ]
     },
     "execution_count": 1,
     "metadata": {},
     "output_type": "execute_result"
    }
   ],
   "source": [
    "import openml\n",
    " \n",
    "# List all datasets and their properties\n",
    "openml.datasets.list_datasets(output_format=\"dataframe\")\n",
    " "
   ]
  },
  {
   "cell_type": "code",
   "execution_count": 2,
   "metadata": {},
   "outputs": [
    {
     "name": "stderr",
     "output_type": "stream",
     "text": [
      "/home/ddp/anaconda3/envs/paper/lib/python3.10/site-packages/openml/datasets/functions.py:438: FutureWarning: Starting from Version 0.15 `download_data`, `download_qualities`, and `download_features_meta_data` will all be ``False`` instead of ``True`` by default to enable lazy loading. To disable this message until version 0.15 explicitly set `download_data`, `download_qualities`, and `download_features_meta_data` to a bool while calling `get_dataset`.\n",
      "  warnings.warn(\n"
     ]
    },
    {
     "data": {
      "text/plain": [
       "OpenML Dataset\n",
       "==============\n",
       "Name..........: iris\n",
       "Version.......: 1\n",
       "Format........: ARFF\n",
       "Upload Date...: 2014-04-06 23:23:39\n",
       "Licence.......: Public\n",
       "Download URL..: https://api.openml.org/data/v1/download/61/iris.arff\n",
       "OpenML URL....: https://www.openml.org/d/61\n",
       "# of features.: 5\n",
       "# of instances: 150"
      ]
     },
     "execution_count": 2,
     "metadata": {},
     "output_type": "execute_result"
    }
   ],
   "source": [
    "# # Get dataset by ID\n",
    "# dataset = openml.datasets.get_dataset(61)\n",
    "\n",
    "# dataset"
   ]
  },
  {
   "cell_type": "markdown",
   "metadata": {},
   "source": [
    "# Regression Task"
   ]
  },
  {
   "cell_type": "code",
   "execution_count": 33,
   "metadata": {},
   "outputs": [
    {
     "name": "stderr",
     "output_type": "stream",
     "text": [
      "/home/ddp/anaconda3/envs/paper/lib/python3.10/site-packages/openml/datasets/functions.py:438: FutureWarning: Starting from Version 0.15 `download_data`, `download_qualities`, and `download_features_meta_data` will all be ``False`` instead of ``True`` by default to enable lazy loading. To disable this message until version 0.15 explicitly set `download_data`, `download_qualities`, and `download_features_meta_data` to a bool while calling `get_dataset`.\n",
      "  warnings.warn(\n"
     ]
    },
    {
     "data": {
      "text/plain": [
       "OpenML Dataset\n",
       "==============\n",
       "Name..........: boston\n",
       "Version.......: 1\n",
       "Format........: ARFF\n",
       "Upload Date...: 2014-09-29 00:08:07\n",
       "Licence.......: Public\n",
       "Download URL..: https://api.openml.org/data/v1/download/52643/boston.arff\n",
       "OpenML URL....: https://www.openml.org/d/531\n",
       "# of features.: 14\n",
       "# of instances: 506"
      ]
     },
     "execution_count": 33,
     "metadata": {},
     "output_type": "execute_result"
    }
   ],
   "source": [
    "# Get dataset by name\n",
    "# dataset = openml.datasets.get_dataset('diabets')\n",
    "dataset = openml.datasets.get_dataset('boston')\n",
    "\n",
    "dataset\n"
   ]
  },
  {
   "cell_type": "code",
   "execution_count": 34,
   "metadata": {},
   "outputs": [],
   "source": [
    "# Get the data itself as a dataframe (or otherwise)\n",
    "X, y, _, _ = dataset.get_data(target=dataset.default_target_attribute, dataset_format=\"dataframe\")"
   ]
  },
  {
   "cell_type": "code",
   "execution_count": 35,
   "metadata": {},
   "outputs": [
    {
     "data": {
      "text/html": [
       "<div>\n",
       "<style scoped>\n",
       "    .dataframe tbody tr th:only-of-type {\n",
       "        vertical-align: middle;\n",
       "    }\n",
       "\n",
       "    .dataframe tbody tr th {\n",
       "        vertical-align: top;\n",
       "    }\n",
       "\n",
       "    .dataframe thead th {\n",
       "        text-align: right;\n",
       "    }\n",
       "</style>\n",
       "<table border=\"1\" class=\"dataframe\">\n",
       "  <thead>\n",
       "    <tr style=\"text-align: right;\">\n",
       "      <th></th>\n",
       "      <th>CRIM</th>\n",
       "      <th>ZN</th>\n",
       "      <th>INDUS</th>\n",
       "      <th>NOX</th>\n",
       "      <th>RM</th>\n",
       "      <th>AGE</th>\n",
       "      <th>DIS</th>\n",
       "      <th>TAX</th>\n",
       "      <th>PTRATIO</th>\n",
       "      <th>B</th>\n",
       "      <th>LSTAT</th>\n",
       "    </tr>\n",
       "  </thead>\n",
       "  <tbody>\n",
       "    <tr>\n",
       "      <th>count</th>\n",
       "      <td>506.000000</td>\n",
       "      <td>506.000000</td>\n",
       "      <td>506.000000</td>\n",
       "      <td>506.000000</td>\n",
       "      <td>506.000000</td>\n",
       "      <td>506.000000</td>\n",
       "      <td>506.000000</td>\n",
       "      <td>506.000000</td>\n",
       "      <td>506.000000</td>\n",
       "      <td>506.000000</td>\n",
       "      <td>506.000000</td>\n",
       "    </tr>\n",
       "    <tr>\n",
       "      <th>mean</th>\n",
       "      <td>3.613524</td>\n",
       "      <td>11.363636</td>\n",
       "      <td>11.136779</td>\n",
       "      <td>0.554695</td>\n",
       "      <td>6.284634</td>\n",
       "      <td>68.574901</td>\n",
       "      <td>3.795043</td>\n",
       "      <td>408.237154</td>\n",
       "      <td>18.455534</td>\n",
       "      <td>356.674032</td>\n",
       "      <td>12.653063</td>\n",
       "    </tr>\n",
       "    <tr>\n",
       "      <th>std</th>\n",
       "      <td>8.601545</td>\n",
       "      <td>23.322453</td>\n",
       "      <td>6.860353</td>\n",
       "      <td>0.115878</td>\n",
       "      <td>0.702617</td>\n",
       "      <td>28.148861</td>\n",
       "      <td>2.105710</td>\n",
       "      <td>168.537116</td>\n",
       "      <td>2.164946</td>\n",
       "      <td>91.294864</td>\n",
       "      <td>7.141062</td>\n",
       "    </tr>\n",
       "    <tr>\n",
       "      <th>min</th>\n",
       "      <td>0.006320</td>\n",
       "      <td>0.000000</td>\n",
       "      <td>0.460000</td>\n",
       "      <td>0.385000</td>\n",
       "      <td>3.561000</td>\n",
       "      <td>2.900000</td>\n",
       "      <td>1.129600</td>\n",
       "      <td>187.000000</td>\n",
       "      <td>12.600000</td>\n",
       "      <td>0.320000</td>\n",
       "      <td>1.730000</td>\n",
       "    </tr>\n",
       "    <tr>\n",
       "      <th>25%</th>\n",
       "      <td>0.082045</td>\n",
       "      <td>0.000000</td>\n",
       "      <td>5.190000</td>\n",
       "      <td>0.449000</td>\n",
       "      <td>5.885500</td>\n",
       "      <td>45.025000</td>\n",
       "      <td>2.100175</td>\n",
       "      <td>279.000000</td>\n",
       "      <td>17.400000</td>\n",
       "      <td>375.377500</td>\n",
       "      <td>6.950000</td>\n",
       "    </tr>\n",
       "    <tr>\n",
       "      <th>50%</th>\n",
       "      <td>0.256510</td>\n",
       "      <td>0.000000</td>\n",
       "      <td>9.690000</td>\n",
       "      <td>0.538000</td>\n",
       "      <td>6.208500</td>\n",
       "      <td>77.500000</td>\n",
       "      <td>3.207450</td>\n",
       "      <td>330.000000</td>\n",
       "      <td>19.050000</td>\n",
       "      <td>391.440000</td>\n",
       "      <td>11.360000</td>\n",
       "    </tr>\n",
       "    <tr>\n",
       "      <th>75%</th>\n",
       "      <td>3.677083</td>\n",
       "      <td>12.500000</td>\n",
       "      <td>18.100000</td>\n",
       "      <td>0.624000</td>\n",
       "      <td>6.623500</td>\n",
       "      <td>94.075000</td>\n",
       "      <td>5.188425</td>\n",
       "      <td>666.000000</td>\n",
       "      <td>20.200000</td>\n",
       "      <td>396.225000</td>\n",
       "      <td>16.955000</td>\n",
       "    </tr>\n",
       "    <tr>\n",
       "      <th>max</th>\n",
       "      <td>88.976200</td>\n",
       "      <td>100.000000</td>\n",
       "      <td>27.740000</td>\n",
       "      <td>0.871000</td>\n",
       "      <td>8.780000</td>\n",
       "      <td>100.000000</td>\n",
       "      <td>12.126500</td>\n",
       "      <td>711.000000</td>\n",
       "      <td>22.000000</td>\n",
       "      <td>396.900000</td>\n",
       "      <td>37.970000</td>\n",
       "    </tr>\n",
       "  </tbody>\n",
       "</table>\n",
       "</div>"
      ],
      "text/plain": [
       "             CRIM          ZN       INDUS         NOX          RM         AGE  \\\n",
       "count  506.000000  506.000000  506.000000  506.000000  506.000000  506.000000   \n",
       "mean     3.613524   11.363636   11.136779    0.554695    6.284634   68.574901   \n",
       "std      8.601545   23.322453    6.860353    0.115878    0.702617   28.148861   \n",
       "min      0.006320    0.000000    0.460000    0.385000    3.561000    2.900000   \n",
       "25%      0.082045    0.000000    5.190000    0.449000    5.885500   45.025000   \n",
       "50%      0.256510    0.000000    9.690000    0.538000    6.208500   77.500000   \n",
       "75%      3.677083   12.500000   18.100000    0.624000    6.623500   94.075000   \n",
       "max     88.976200  100.000000   27.740000    0.871000    8.780000  100.000000   \n",
       "\n",
       "              DIS         TAX     PTRATIO           B       LSTAT  \n",
       "count  506.000000  506.000000  506.000000  506.000000  506.000000  \n",
       "mean     3.795043  408.237154   18.455534  356.674032   12.653063  \n",
       "std      2.105710  168.537116    2.164946   91.294864    7.141062  \n",
       "min      1.129600  187.000000   12.600000    0.320000    1.730000  \n",
       "25%      2.100175  279.000000   17.400000  375.377500    6.950000  \n",
       "50%      3.207450  330.000000   19.050000  391.440000   11.360000  \n",
       "75%      5.188425  666.000000   20.200000  396.225000   16.955000  \n",
       "max     12.126500  711.000000   22.000000  396.900000   37.970000  "
      ]
     },
     "execution_count": 35,
     "metadata": {},
     "output_type": "execute_result"
    }
   ],
   "source": [
    "X.describe()"
   ]
  },
  {
   "cell_type": "code",
   "execution_count": 36,
   "metadata": {},
   "outputs": [
    {
     "data": {
      "text/html": [
       "<div>\n",
       "<style scoped>\n",
       "    .dataframe tbody tr th:only-of-type {\n",
       "        vertical-align: middle;\n",
       "    }\n",
       "\n",
       "    .dataframe tbody tr th {\n",
       "        vertical-align: top;\n",
       "    }\n",
       "\n",
       "    .dataframe thead th {\n",
       "        text-align: right;\n",
       "    }\n",
       "</style>\n",
       "<table border=\"1\" class=\"dataframe\">\n",
       "  <thead>\n",
       "    <tr style=\"text-align: right;\">\n",
       "      <th></th>\n",
       "      <th>CRIM</th>\n",
       "      <th>ZN</th>\n",
       "      <th>INDUS</th>\n",
       "      <th>CHAS</th>\n",
       "      <th>NOX</th>\n",
       "      <th>RM</th>\n",
       "      <th>AGE</th>\n",
       "      <th>DIS</th>\n",
       "      <th>RAD</th>\n",
       "      <th>TAX</th>\n",
       "      <th>PTRATIO</th>\n",
       "      <th>B</th>\n",
       "      <th>LSTAT</th>\n",
       "    </tr>\n",
       "  </thead>\n",
       "  <tbody>\n",
       "    <tr>\n",
       "      <th>0</th>\n",
       "      <td>0.00632</td>\n",
       "      <td>18.0</td>\n",
       "      <td>2.31</td>\n",
       "      <td>0</td>\n",
       "      <td>0.538</td>\n",
       "      <td>6.575</td>\n",
       "      <td>65.2</td>\n",
       "      <td>4.0900</td>\n",
       "      <td>1</td>\n",
       "      <td>296.0</td>\n",
       "      <td>15.3</td>\n",
       "      <td>396.90</td>\n",
       "      <td>4.98</td>\n",
       "    </tr>\n",
       "    <tr>\n",
       "      <th>1</th>\n",
       "      <td>0.02731</td>\n",
       "      <td>0.0</td>\n",
       "      <td>7.07</td>\n",
       "      <td>0</td>\n",
       "      <td>0.469</td>\n",
       "      <td>6.421</td>\n",
       "      <td>78.9</td>\n",
       "      <td>4.9671</td>\n",
       "      <td>2</td>\n",
       "      <td>242.0</td>\n",
       "      <td>17.8</td>\n",
       "      <td>396.90</td>\n",
       "      <td>9.14</td>\n",
       "    </tr>\n",
       "    <tr>\n",
       "      <th>2</th>\n",
       "      <td>0.02729</td>\n",
       "      <td>0.0</td>\n",
       "      <td>7.07</td>\n",
       "      <td>0</td>\n",
       "      <td>0.469</td>\n",
       "      <td>7.185</td>\n",
       "      <td>61.1</td>\n",
       "      <td>4.9671</td>\n",
       "      <td>2</td>\n",
       "      <td>242.0</td>\n",
       "      <td>17.8</td>\n",
       "      <td>392.83</td>\n",
       "      <td>4.03</td>\n",
       "    </tr>\n",
       "    <tr>\n",
       "      <th>3</th>\n",
       "      <td>0.03237</td>\n",
       "      <td>0.0</td>\n",
       "      <td>2.18</td>\n",
       "      <td>0</td>\n",
       "      <td>0.458</td>\n",
       "      <td>6.998</td>\n",
       "      <td>45.8</td>\n",
       "      <td>6.0622</td>\n",
       "      <td>3</td>\n",
       "      <td>222.0</td>\n",
       "      <td>18.7</td>\n",
       "      <td>394.63</td>\n",
       "      <td>2.94</td>\n",
       "    </tr>\n",
       "    <tr>\n",
       "      <th>4</th>\n",
       "      <td>0.06905</td>\n",
       "      <td>0.0</td>\n",
       "      <td>2.18</td>\n",
       "      <td>0</td>\n",
       "      <td>0.458</td>\n",
       "      <td>7.147</td>\n",
       "      <td>54.2</td>\n",
       "      <td>6.0622</td>\n",
       "      <td>3</td>\n",
       "      <td>222.0</td>\n",
       "      <td>18.7</td>\n",
       "      <td>396.90</td>\n",
       "      <td>5.33</td>\n",
       "    </tr>\n",
       "  </tbody>\n",
       "</table>\n",
       "</div>"
      ],
      "text/plain": [
       "      CRIM    ZN  INDUS CHAS    NOX     RM   AGE     DIS RAD    TAX  PTRATIO  \\\n",
       "0  0.00632  18.0   2.31    0  0.538  6.575  65.2  4.0900   1  296.0     15.3   \n",
       "1  0.02731   0.0   7.07    0  0.469  6.421  78.9  4.9671   2  242.0     17.8   \n",
       "2  0.02729   0.0   7.07    0  0.469  7.185  61.1  4.9671   2  242.0     17.8   \n",
       "3  0.03237   0.0   2.18    0  0.458  6.998  45.8  6.0622   3  222.0     18.7   \n",
       "4  0.06905   0.0   2.18    0  0.458  7.147  54.2  6.0622   3  222.0     18.7   \n",
       "\n",
       "        B  LSTAT  \n",
       "0  396.90   4.98  \n",
       "1  396.90   9.14  \n",
       "2  392.83   4.03  \n",
       "3  394.63   2.94  \n",
       "4  396.90   5.33  "
      ]
     },
     "execution_count": 36,
     "metadata": {},
     "output_type": "execute_result"
    }
   ],
   "source": [
    "X.head()"
   ]
  },
  {
   "cell_type": "code",
   "execution_count": 37,
   "metadata": {},
   "outputs": [
    {
     "data": {
      "text/plain": [
       "pandas.core.frame.DataFrame"
      ]
     },
     "execution_count": 37,
     "metadata": {},
     "output_type": "execute_result"
    }
   ],
   "source": [
    "type(X.head())"
   ]
  },
  {
   "cell_type": "code",
   "execution_count": 38,
   "metadata": {},
   "outputs": [
    {
     "data": {
      "text/plain": [
       "count    506.000000\n",
       "mean      22.532806\n",
       "std        9.197104\n",
       "min        5.000000\n",
       "25%       17.025000\n",
       "50%       21.200000\n",
       "75%       25.000000\n",
       "max       50.000000\n",
       "Name: MEDV, dtype: float64"
      ]
     },
     "execution_count": 38,
     "metadata": {},
     "output_type": "execute_result"
    }
   ],
   "source": [
    "y.describe()"
   ]
  },
  {
   "cell_type": "code",
   "execution_count": 39,
   "metadata": {},
   "outputs": [
    {
     "data": {
      "text/plain": [
       "0    24.0\n",
       "1    21.6\n",
       "2    34.7\n",
       "3    33.4\n",
       "4    36.2\n",
       "Name: MEDV, dtype: float64"
      ]
     },
     "execution_count": 39,
     "metadata": {},
     "output_type": "execute_result"
    }
   ],
   "source": [
    "y.head()"
   ]
  },
  {
   "cell_type": "code",
   "execution_count": 9,
   "metadata": {},
   "outputs": [
    {
     "data": {
      "text/plain": [
       "pandas.core.series.Series"
      ]
     },
     "execution_count": 9,
     "metadata": {},
     "output_type": "execute_result"
    }
   ],
   "source": [
    "type(y.head())"
   ]
  },
  {
   "cell_type": "code",
   "execution_count": 10,
   "metadata": {},
   "outputs": [
    {
     "data": {
      "text/plain": [
       "class\n",
       "tested_negative    500\n",
       "tested_positive    268\n",
       "Name: count, dtype: int64"
      ]
     },
     "execution_count": 10,
     "metadata": {},
     "output_type": "execute_result"
    }
   ],
   "source": [
    "y.value_counts()"
   ]
  },
  {
   "cell_type": "code",
   "execution_count": 11,
   "metadata": {},
   "outputs": [
    {
     "data": {
      "text/plain": [
       "268"
      ]
     },
     "execution_count": 11,
     "metadata": {},
     "output_type": "execute_result"
    }
   ],
   "source": [
    "y.value_counts()['tested_positive']"
   ]
  },
  {
   "cell_type": "code",
   "execution_count": 12,
   "metadata": {},
   "outputs": [
    {
     "data": {
      "text/plain": [
       "500"
      ]
     },
     "execution_count": 12,
     "metadata": {},
     "output_type": "execute_result"
    }
   ],
   "source": [
    "y.value_counts()['tested_negative']"
   ]
  },
  {
   "cell_type": "markdown",
   "metadata": {},
   "source": [
    "# Classification task"
   ]
  },
  {
   "cell_type": "code",
   "execution_count": 13,
   "metadata": {},
   "outputs": [
    {
     "name": "stderr",
     "output_type": "stream",
     "text": [
      "/home/ddp/anaconda3/envs/paper/lib/python3.10/site-packages/openml/datasets/functions.py:438: FutureWarning: Starting from Version 0.15 `download_data`, `download_qualities`, and `download_features_meta_data` will all be ``False`` instead of ``True`` by default to enable lazy loading. To disable this message until version 0.15 explicitly set `download_data`, `download_qualities`, and `download_features_meta_data` to a bool while calling `get_dataset`.\n",
      "  warnings.warn(\n"
     ]
    },
    {
     "data": {
      "text/plain": [
       "OpenML Dataset\n",
       "==============\n",
       "Name..........: CIFAR_10\n",
       "Version.......: 1\n",
       "Format........: ARFF\n",
       "Upload Date...: 2017-09-26 23:46:15\n",
       "Licence.......: Public\n",
       "Download URL..: https://api.openml.org/data/v1/download/16797613/CIFAR_10.arff\n",
       "OpenML URL....: https://www.openml.org/d/40927\n",
       "# of features.: 3073\n",
       "# of instances: 60000"
      ]
     },
     "execution_count": 13,
     "metadata": {},
     "output_type": "execute_result"
    }
   ],
   "source": [
    "# Get dataset by name\n",
    "cifar10_dataset = openml.datasets.get_dataset('CIFAR_10')\n",
    "cifar10_dataset"
   ]
  },
  {
   "cell_type": "code",
   "execution_count": 14,
   "metadata": {},
   "outputs": [],
   "source": [
    "X, y, _, _ = cifar10_dataset.get_data(target='class', dataset_format=\"dataframe\")"
   ]
  },
  {
   "cell_type": "code",
   "execution_count": 26,
   "metadata": {},
   "outputs": [
    {
     "data": {
      "text/html": [
       "<div>\n",
       "<style scoped>\n",
       "    .dataframe tbody tr th:only-of-type {\n",
       "        vertical-align: middle;\n",
       "    }\n",
       "\n",
       "    .dataframe tbody tr th {\n",
       "        vertical-align: top;\n",
       "    }\n",
       "\n",
       "    .dataframe thead th {\n",
       "        text-align: right;\n",
       "    }\n",
       "</style>\n",
       "<table border=\"1\" class=\"dataframe\">\n",
       "  <thead>\n",
       "    <tr style=\"text-align: right;\">\n",
       "      <th></th>\n",
       "      <th>a0</th>\n",
       "      <th>a1</th>\n",
       "      <th>a2</th>\n",
       "      <th>a3</th>\n",
       "      <th>a4</th>\n",
       "      <th>a5</th>\n",
       "      <th>a6</th>\n",
       "      <th>a7</th>\n",
       "      <th>a8</th>\n",
       "      <th>a9</th>\n",
       "      <th>...</th>\n",
       "      <th>a3062</th>\n",
       "      <th>a3063</th>\n",
       "      <th>a3064</th>\n",
       "      <th>a3065</th>\n",
       "      <th>a3066</th>\n",
       "      <th>a3067</th>\n",
       "      <th>a3068</th>\n",
       "      <th>a3069</th>\n",
       "      <th>a3070</th>\n",
       "      <th>a3071</th>\n",
       "    </tr>\n",
       "  </thead>\n",
       "  <tbody>\n",
       "    <tr>\n",
       "      <th>0</th>\n",
       "      <td>26</td>\n",
       "      <td>17</td>\n",
       "      <td>13</td>\n",
       "      <td>13</td>\n",
       "      <td>13</td>\n",
       "      <td>14</td>\n",
       "      <td>14</td>\n",
       "      <td>15</td>\n",
       "      <td>14</td>\n",
       "      <td>10</td>\n",
       "      <td>...</td>\n",
       "      <td>250</td>\n",
       "      <td>237</td>\n",
       "      <td>144</td>\n",
       "      <td>33</td>\n",
       "      <td>29</td>\n",
       "      <td>46</td>\n",
       "      <td>28</td>\n",
       "      <td>27</td>\n",
       "      <td>26</td>\n",
       "      <td>27</td>\n",
       "    </tr>\n",
       "  </tbody>\n",
       "</table>\n",
       "<p>1 rows × 3072 columns</p>\n",
       "</div>"
      ],
      "text/plain": [
       "   a0  a1  a2  a3  a4  a5  a6  a7  a8  a9  ...  a3062  a3063  a3064  a3065  \\\n",
       "0  26  17  13  13  13  14  14  15  14  10  ...    250    237    144     33   \n",
       "\n",
       "   a3066  a3067  a3068  a3069  a3070  a3071  \n",
       "0     29     46     28     27     26     27  \n",
       "\n",
       "[1 rows x 3072 columns]"
      ]
     },
     "execution_count": 26,
     "metadata": {},
     "output_type": "execute_result"
    }
   ],
   "source": [
    "X.head(1)"
   ]
  },
  {
   "cell_type": "code",
   "execution_count": 27,
   "metadata": {},
   "outputs": [
    {
     "data": {
      "text/plain": [
       "pandas.core.frame.DataFrame"
      ]
     },
     "execution_count": 27,
     "metadata": {},
     "output_type": "execute_result"
    }
   ],
   "source": [
    "type(X.head(1))"
   ]
  },
  {
   "cell_type": "code",
   "execution_count": 28,
   "metadata": {},
   "outputs": [
    {
     "name": "stdout",
     "output_type": "stream",
     "text": [
      "Pandas(Index=0, a0=26, a1=17, a2=13, a3=13, a4=13, a5=14, a6=14, a7=15, a8=14, a9=10, a10=13, a11=26, a12=18, a13=11, a14=10, a15=12, a16=10, a17=9, a18=19, a19=22, a20=17, a21=22, a22=15, a23=19, a24=12, a25=21, a26=23, a27=17, a28=17, a29=15, a30=24, a31=22, a32=20, a33=13, a34=13, a35=11, a36=11, a37=12, a38=11, a39=22, a40=22, a41=12, a42=13, a43=14, a44=13, a45=10, a46=12, a47=15, a48=8, a49=11, a50=40, a51=21, a52=9, a53=16, a54=17, a55=25, a56=9, a57=14, a58=16, a59=23, a60=36, a61=19, a62=21, a63=29, a64=14, a65=13, a66=13, a67=14, a68=11, a69=10, a70=13, a71=29, a72=21, a73=11, a74=12, a75=16, a76=20, a77=8, a78=12, a79=13, a80=8, a81=13, a82=36, a83=13, a84=9, a85=10, a86=7, a87=12, a88=15, a89=21, a90=36, a91=26, a92=22, a93=17, a94=25, a95=31, a96=13, a97=17, a98=14, a99=14, a100=11, a101=9, a102=19, a103=18, a104=11, a105=11, a106=11, a107=19, a108=19, a109=8, a110=11, a111=10, a112=7, a113=14, a114=19, a115=15, a116=10, a117=12, a118=16, a119=21, a120=18, a121=21, a122=42, a123=53, a124=68, a125=69, a126=57, a127=33, a128=16, a129=16, a130=14, a131=13, a132=12, a133=11, a134=15, a135=13, a136=11, a137=13, a138=13, a139=17, a140=17, a141=11, a142=14, a143=10, a144=8, a145=13, a146=13, a147=15, a148=17, a149=24, a150=24, a151=37, a152=76, a153=119, a154=167, a155=198, a156=208, a157=182, a158=53, a159=18, a160=17, a161=15, a162=14, a163=14, a164=11, a165=10, a166=12, a167=12, a168=12, a169=12, a170=13, a171=13, a172=12, a173=14, a174=16, a175=11, a176=11, a177=11, a178=11, a179=21, a180=24, a181=37, a182=96, a183=174, a184=229, a185=249, a186=251, a187=244, a188=248, a189=175, a190=29, a191=11, a192=17, a193=17, a194=16, a195=14, a196=12, a197=11, a198=10, a199=11, a200=12, a201=13, a202=12, a203=11, a204=12, a205=27, a206=26, a207=14, a208=11, a209=12, a210=21, a211=33, a212=90, a213=174, a214=233, a215=254, a216=212, a217=189, a218=245, a219=245, a220=243, a221=119, a222=15, a223=16, a224=19, a225=19, a226=17, a227=13, a228=13, a229=13, a230=10, a231=11, a232=13, a233=14, a234=13, a235=8, a236=14, a237=25, a238=20, a239=12, a240=16, a241=25, a242=52, a243=144, a244=235, a245=252, a246=248, a247=250, a248=221, a249=207, a250=249, a251=245, a252=222, a253=62, a254=9, a255=21, a256=16, a257=17, a258=17, a259=14, a260=17, a261=10, a262=10, a263=14, a264=13, a265=14, a266=15, a267=12, a268=10, a269=12, a270=11, a271=24, a272=35, a273=47, a274=144, a275=215, a276=239, a277=249, a278=251, a279=251, a280=252, a281=252, a282=242, a283=240, a284=160, a285=18, a286=14, a287=16, a288=12, a289=16, a290=17, a291=14, a292=23, a293=52, a294=41, a295=11, a296=10, a297=12, a298=14, a299=13, a300=18, a301=25, a302=69, a303=155, a304=164, a305=148, a306=184, a307=174, a308=179, a309=221, a310=248, a311=249, a312=249, a313=241, a314=234, a315=207, a316=60, a317=8, a318=14, a319=13, a320=53, a321=20, a322=14, a323=19, a324=73, a325=181, a326=184, a327=91, a328=18, a329=11, a330=9, a331=22, a332=87, a333=122, a334=165, a335=227, a336=253, a337=247, a338=232, a339=142, a340=145, a341=184, a342=222, a343=248, a344=237, a345=229, a346=220, a347=102, a348=10, a349=19, a350=16, a351=15, a352=148, a353=61, a354=18, a355=70, a356=174, a357=237, a358=242, a359=217, a360=115, a361=31, a362=48, a363=91, a364=161, a365=192, a366=183, a367=170, a368=216, a369=252, a370=252, a371=200, a372=168, a373=187, a374=184, a375=226, a376=217, a377=218, a378=123, a379=20, a380=13, a381=17, a382=13, a383=24, a384=223, a385=156, a386=73, a387=158, a388=227, a389=236, a390=237, a391=243, a392=219, a393=156, a394=104, a395=125, a396=107, a397=102, a398=173, a399=206, a400=169, a401=239, a402=254, a403=224, a404=92, a405=91, a406=153, a407=200, a408=210, a409=135, a410=15, a411=8, a412=11, a413=9, a414=16, a415=20, a416=236, a417=216, a418=176, a419=215, a420=238, a421=235, a422=232, a423=229, a424=225, a425=173, a426=85, a427=159, a428=80, a429=70, a430=120, a431=200, a432=175, a433=209, a434=180, a435=74, a436=52, a437=140, a438=189, a439=198, a440=140, a441=37, a442=3, a443=6, a444=6, a445=21, a446=18, a447=11, a448=237, a449=231, a450=226, a451=233, a452=235, a453=236, a454=236, a455=229, a456=220, a457=145, a458=130, a459=192, a460=92, a461=87, a462=109, a463=116, a464=157, a465=147, a466=57, a467=71, a468=159, a469=190, a470=188, a471=140, a472=65, a473=13, a474=10, a475=8, a476=6, a477=25, a478=15, a479=11, a480=242, a481=237, a482=237, a483=235, a484=238, a485=240, a486=233, a487=227, a488=228, a489=173, a490=184, a491=192, a492=116, a493=104, a494=123, a495=142, a496=117, a497=60, a498=102, a499=159, a500=186, a501=186, a502=137, a503=85, a504=23, a505=9, a506=14, a507=14, a508=9, a509=8, a510=11, a511=12, a512=244, a513=237, a514=235, a515=235, a516=230, a517=223, a518=202, a519=201, a520=218, a521=211, a522=188, a523=135, a524=138, a525=150, a526=163, a527=117, a528=63, a529=107, a530=155, a531=182, a532=181, a533=130, a534=107, a535=48, a536=7, a537=10, a538=11, a539=20, a540=13, a541=8, a542=11, a543=28, a544=241, a545=238, a546=235, a547=234, a548=199, a549=202, a550=173, a551=128, a552=215, a553=233, a554=190, a555=128, a556=147, a557=169, a558=112, a559=75, a560=98, a561=110, a562=177, a563=178, a564=138, a565=118, a566=74, a567=14, a568=10, a569=11, a570=12, a571=16, a572=11, a573=13, a574=21, a575=26, a576=235, a577=237, a578=231, a579=227, a580=191, a581=124, a582=158, a583=170, a584=215, a585=202, a586=187, a587=159, a588=152, a589=113, a590=84, a591=81, a592=90, a593=154, a594=166, a595=139, a596=139, a597=99, a598=26, a599=7, a600=14, a601=12, a602=23, a603=22, a604=8, a605=16, a606=14, a607=8, a608=219, a609=227, a610=226, a611=211, a612=194, a613=97, a614=114, a615=168, a616=173, a617=166, a618=151, a619=142, a620=108, a621=87, a622=64, a623=85, a624=174, a625=170, a626=123, a627=141, a628=118, a629=38, a630=5, a631=13, a632=12, a633=17, a634=21, a635=17, a636=7, a637=9, a638=9, a639=8, a640=208, a641=220, a642=220, a643=193, a644=170, a645=138, a646=71, a647=69, a648=111, a649=152, a650=146, a651=117, a652=97, a653=48, a654=97, a655=174, a656=162, a657=145, a658=137, a659=114, a660=53, a661=0, a662=14, a663=14, a664=21, a665=16, a666=12, a667=17, a668=9, a669=7, a670=8, a671=9, a672=217, a673=209, a674=160, a675=152, a676=182, a677=139, a678=50, a679=36, a680=56, a681=100, a682=106, a683=70, a684=95, a685=100, a686=169, a687=151, a688=130, a689=140, a690=102, a691=93, a692=95, a693=35, a694=38, a695=20, a696=29, a697=13, a698=12, a699=10, a700=10, a701=14, a702=11, a703=13, a704=179, a705=119, a706=57, a707=99, a708=125, a709=52, a710=15, a711=4, a712=11, a713=30, a714=25, a715=40, a716=130, a717=172, a718=146, a719=141, a720=124, a721=82, a722=78, a723=163, a724=178, a725=64, a726=33, a727=14, a728=22, a729=12, a730=11, a731=8, a732=9, a733=13, a734=12, a735=20, a736=86, a737=31, a738=34, a739=55, a740=47, a741=42, a742=25, a743=2, a744=0, a745=2, a746=1, a747=56, a748=135, a749=146, a750=143, a751=126, a752=73, a753=62, a754=146, a755=194, a756=188, a757=113, a758=39, a759=9, a760=21, a761=12, a762=10, a763=8, a764=9, a765=12, a766=12, a767=17, a768=22, a769=17, a770=49, a771=40, a772=40, a773=54, a774=51, a775=41, a776=34, a777=22, a778=45, a779=121, a780=137, a781=134, a782=117, a783=58, a784=42, a785=144, a786=201, a787=194, a788=209, a789=205, a790=110, a791=20, a792=21, a793=11, a794=8, a795=9, a796=15, a797=13, a798=12, a799=8, a800=32, a801=71, a802=54, a803=18, a804=29, a805=62, a806=68, a807=70, a808=81, a809=88, a810=136, a811=140, a812=127, a813=98, a814=50, a815=42, a816=134, a817=204, a818=211, a819=213, a820=216, a821=223, a822=141, a823=33, a824=10, a825=11, a826=10, a827=9, a828=12, a829=12, a830=15, a831=11, a832=121, a833=140, a834=38, a835=5, a836=15, a837=49, a838=67, a839=72, a840=74, a841=111, a842=132, a843=122, a844=93, a845=39, a846=30, a847=130, a848=204, a849=210, a850=217, a851=217, a852=214, a853=224, a854=169, a855=54, a856=11, a857=10, a858=11, a859=9, a860=9, a861=13, a862=21, a863=14, a864=174, a865=126, a866=42, a867=21, a868=4, a869=23, a870=38, a871=46, a872=64, a873=96, a874=114, a875=81, a876=37, a877=24, a878=118, a879=188, a880=192, a881=207, a882=219, a883=219, a884=213, a885=227, a886=199, a887=73, a888=10, a889=9, a890=10, a891=14, a892=13, a893=16, a894=16, a895=13, a896=166, a897=85, a898=26, a899=35, a900=26, a901=11, a902=3, a903=19, a904=76, a905=99, a906=71, a907=29, a908=26, a909=124, a910=200, a911=197, a912=197, a913=202, a914=219, a915=224, a916=216, a917=227, a918=221, a919=113, a920=14, a921=9, a922=11, a923=14, a924=14, a925=30, a926=20, a927=11, a928=90, a929=34, a930=28, a931=26, a932=30, a933=39, a934=17, a935=39, a936=81, a937=64, a938=26, a939=8, a940=114, a941=209, a942=204, a943=201, a944=212, a945=217, a946=227, a947=230, a948=227, a949=229, a950=221, a951=170, a952=44, a953=7, a954=12, a955=14, a956=20, a957=23, a958=16, a959=9, a960=79, a961=58, a962=32, a963=13, a964=6, a965=27, a966=35, a967=33, a968=41, a969=27, a970=10, a971=88, a972=193, a973=208, a974=211, a975=214, a976=223, a977=226, a978=231, a979=232, a980=234, a981=235, a982=226, a983=214, a984=159, a985=46, a986=11, a987=27, a988=13, a989=14, a990=16, a991=10, a992=128, a993=58, a994=25, a995=27, a996=46, a997=60, a998=68, a999=53, a1000=25, a1001=16, a1002=83, a1003=179, a1004=221, a1005=218, a1006=221, a1007=228, a1008=229, a1009=231, a1010=229, a1011=222, a1012=227, a1013=233, a1014=235, a1015=218, a1016=127, a1017=25, a1018=27, a1019=38, a1020=11, a1021=13, a1022=12, a1023=13, a1024=23, a1025=14, a1026=9, a1027=9, a1028=10, a1029=11, a1030=11, a1031=12, a1032=11, a1033=7, a1034=10, a1035=23, a1036=16, a1037=9, a1038=7, a1039=10, a1040=8, a1041=7, a1042=17, a1043=20, a1044=15, a1045=20, a1046=13, a1047=17, a1048=11, a1049=21, a1050=23, a1051=17, a1052=17, a1053=14, a1054=24, a1055=21, a1056=17, a1057=10, a1058=9, a1059=7, a1060=8, a1061=9, a1062=8, a1063=19, a1064=19, a1065=9, a1066=10, a1067=11, a1068=11, a1069=8, a1070=10, a1071=13, a1072=6, a1073=9, a1074=38, a1075=19, a1076=8, a1077=15, a1078=15, a1079=23, a1080=8, a1081=14, a1082=16, a1083=23, a1084=35, a1085=17, a1086=20, a1087=29, a1088=11, a1089=10, a1090=9, a1091=10, a1092=8, a1093=7, a1094=10, a1095=26, a1096=18, a1097=8, a1098=9, a1099=13, a1100=18, a1101=6, a1102=10, a1103=11, a1104=6, a1105=11, a1106=34, a1107=11, a1108=7, a1109=8, a1110=6, a1111=10, a1112=14, a1113=21, a1114=36, a1115=26, a1116=21, a1117=16, a1118=24, a1119=31, a1120=9, a1121=13, a1122=10, a1123=11, a1124=9, a1125=6, a1126=16, a1127=15, a1128=8, a1129=8, a1130=8, a1131=16, a1132=17, a1133=6, a1134=9, a1135=8, a1136=5, a1137=12, a1138=17, a1139=14, a1140=8, a1141=10, a1142=14, a1143=19, a1144=17, a1145=21, a1146=42, a1147=53, a1148=68, a1149=69, a1150=57, a1151=32, a1152=10, a1153=10, a1154=7, a1155=9, a1156=9, a1157=8, a1158=12, a1159=10, a1160=8, a1161=10, a1162=10, a1163=14, a1164=14, a1165=8, a1166=11, a1167=6, a1168=6, a1169=11, a1170=11, a1171=13, a1172=15, a1173=22, a1174=23, a1175=35, a1176=75, a1177=119, a1178=167, a1179=198, a1180=208, a1181=182, a1182=52, a1183=16, a1184=10, a1185=7, a1186=6, a1187=8, a1188=8, a1189=7, a1190=9, a1191=9, a1192=9, a1193=9, a1194=10, a1195=10, a1196=8, a1197=10, a1198=12, a1199=8, a1200=9, a1201=9, a1202=9, a1203=19, a1204=22, a1205=36, a1206=95, a1207=173, a1208=228, a1209=249, a1210=251, a1211=244, a1212=248, a1213=175, a1214=28, a1215=9, a1216=10, a1217=9, a1218=8, a1219=9, a1220=9, a1221=8, a1222=7, a1223=8, a1224=9, a1225=10, a1226=9, a1227=8, a1228=8, a1229=23, a1230=22, a1231=10, a1232=9, a1233=10, a1234=19, a1235=32, a1236=90, a1237=174, a1238=232, a1239=254, a1240=212, a1241=189, a1242=245, a1243=245, a1244=243, a1245=118, a1246=12, a1247=13, a1248=12, a1249=11, a1250=9, a1251=7, a1252=10, a1253=10, a1254=7, a1255=8, a1256=10, a1257=11, a1258=10, a1259=5, a1260=10, a1261=21, a1262=16, a1263=8, a1264=13, a1265=24, a1266=51, a1267=144, a1268=235, a1269=252, a1270=248, a1271=250, a1272=221, a1273=207, a1274=249, a1275=245, a1276=222, a1277=61, a1278=7, a1279=18, a1280=9, a1281=9, a1282=9, a1283=9, a1284=14, a1285=8, a1286=8, a1287=12, a1288=10, a1289=11, a1290=12, a1291=9, a1292=6, a1293=9, a1294=7, a1295=21, a1296=33, a1297=46, a1298=144, a1299=216, a1300=239, a1301=250, a1302=251, a1303=251, a1304=252, a1305=252, a1306=242, a1307=240, a1308=160, a1309=17, a1310=12, a1311=13, a1312=11, a1313=12, a1314=10, a1315=10, a1316=23, a1317=55, a1318=46, a1319=15, a1320=10, a1321=10, a1322=10, a1323=9, a1324=16, a1325=24, a1326=68, a1327=155, a1328=167, a1329=152, a1330=187, a1331=175, a1332=183, a1333=225, a1334=250, a1335=248, a1336=248, a1337=241, a1338=234, a1339=206, a1340=59, a1341=7, a1342=13, a1343=12, a1344=59, a1345=23, a1346=13, a1347=21, a1348=77, a1349=187, a1350=190, a1351=95, a1352=19, a1353=9, a1354=5, a1355=18, a1356=82, a1357=115, a1358=157, a1359=218, a1360=250, a1361=246, a1362=232, a1363=144, a1364=150, a1365=190, a1366=225, a1367=248, a1368=236, a1369=228, a1370=220, a1371=101, a1372=8, a1373=19, a1374=16, a1375=14, a1376=158, a1377=69, a1378=25, a1379=78, a1380=181, a1381=241, a1382=242, a1383=217, a1384=116, a1385=30, a1386=46, a1387=88, a1388=161, a1389=189, a1390=175, a1391=160, a1392=206, a1393=247, a1394=250, a1395=202, a1396=173, a1397=191, a1398=186, a1399=228, a1400=217, a1401=217, a1402=123, a1403=19, a1404=11, a1405=17, a1406=13, a1407=23, a1408=231, a1409=165, a1410=84, a1411=165, a1412=231, a1413=238, a1414=237, a1415=243, a1416=221, a1417=156, a1418=102, a1419=124, a1420=111, a1421=106, a1422=176, a1423=208, a1424=166, a1425=236, a1426=253, a1427=228, a1428=95, a1429=92, a1430=156, a1431=205, a1432=213, a1433=135, a1434=15, a1435=7, a1436=9, a1437=9, a1438=16, a1439=19, a1440=241, a1441=223, a1442=186, a1443=218, a1444=237, a1445=236, a1446=235, a1447=232, a1448=227, a1449=172, a1450=84, a1451=156, a1452=71, a1453=63, a1454=117, a1455=201, a1456=180, a1457=211, a1458=180, a1459=76, a1460=54, a1461=141, a1462=192, a1463=204, a1464=144, a1465=36, a1466=2, a1467=5, a1468=4, a1469=21, a1470=17, a1471=10, a1472=239, a1473=234, a1474=230, a1475=237, a1476=238, a1477=236, a1478=236, a1479=231, a1480=219, a1481=138, a1482=123, a1483=187, a1484=85, a1485=71, a1486=96, a1487=115, a1488=164, a1489=152, a1490=58, a1491=70, a1492=162, a1493=196, a1494=195, a1495=150, a1496=72, a1497=12, a1498=9, a1499=7, a1500=5, a1501=24, a1502=14, a1503=9, a1504=243, a1505=238, a1506=238, a1507=238, a1508=240, a1509=239, a1510=230, a1511=224, a1512=223, a1513=165, a1514=181, a1515=195, a1516=120, a1517=94, a1518=112, a1519=146, a1520=125, a1521=65, a1522=104, a1523=159, a1524=191, a1525=195, a1526=146, a1527=95, a1528=29, a1529=8, a1530=11, a1531=12, a1532=7, a1533=7, a1534=9, a1535=10, a1536=245, a1537=238, a1538=236, a1539=234, a1540=230, a1541=223, a1542=198, a1543=194, a1544=210, a1545=208, a1546=195, a1547=147, a1548=149, a1549=148, a1550=162, a1551=127, a1552=72, a1553=112, a1554=160, a1555=187, a1556=187, a1557=138, a1558=114, a1559=54, a1560=9, a1561=8, a1562=7, a1563=17, a1564=11, a1565=6, a1566=10, a1567=26, a1568=242, a1569=239, a1570=236, a1571=232, a1572=202, a1573=209, a1574=173, a1575=120, a1576=208, a1577=237, a1578=202, a1579=140, a1580=161, a1581=175, a1582=118, a1583=87, a1584=106, a1585=116, a1586=185, a1587=187, a1588=147, a1589=127, a1590=79, a1591=15, a1592=9, a1593=9, a1594=9, a1595=14, a1596=9, a1597=11, a1598=20, a1599=24, a1600=237, a1601=238, a1602=231, a1603=228, a1604=201, a1605=139, a1606=164, a1607=166, a1608=214, a1609=211, a1610=199, a1611=167, a1612=163, a1613=121, a1614=93, a1615=91, a1616=96, a1617=161, a1618=175, a1619=152, a1620=150, a1621=108, a1622=29, a1623=4, a1624=10, a1625=11, a1626=21, a1627=20, a1628=7, a1629=14, a1630=12, a1631=7, a1632=226, a1633=232, a1634=226, a1635=215, a1636=202, a1637=106, a1638=125, a1639=179, a1640=182, a1641=176, a1642=161, a1643=150, a1644=117, a1645=95, a1646=71, a1647=93, a1648=181, a1649=178, a1650=132, a1651=151, a1652=126, a1653=41, a1654=5, a1655=8, a1656=7, a1657=16, a1658=18, a1659=15, a1660=6, a1661=8, a1662=7, a1663=6, a1664=214, a1665=226, a1666=226, a1667=196, a1668=171, a1669=140, a1670=78, a1671=80, a1672=121, a1673=161, a1674=154, a1675=126, a1676=107, a1677=57, a1678=104, a1679=181, a1680=170, a1681=154, a1682=145, a1683=123, a1684=57, a1685=1, a1686=13, a1687=11, a1688=17, a1689=14, a1690=10, a1691=14, a1692=8, a1693=6, a1694=6, a1695=7, a1696=220, a1697=214, a1698=171, a1699=156, a1700=181, a1701=141, a1702=51, a1703=37, a1704=60, a1705=104, a1706=111, a1707=77, a1708=107, a1709=112, a1710=179, a1711=157, a1712=139, a1713=150, a1714=110, a1715=100, a1716=100, a1717=37, a1718=39, a1719=19, a1720=27, a1721=12, a1722=9, a1723=8, a1724=8, a1725=12, a1726=9, a1727=11, a1728=183, a1729=123, a1730=70, a1731=108, a1732=130, a1733=59, a1734=17, a1735=2, a1736=10, a1737=31, a1738=25, a1739=44, a1740=144, a1741=186, a1742=157, a1743=150, a1744=134, a1745=92, a1746=86, a1747=171, a1748=184, a1749=68, a1750=34, a1751=14, a1752=21, a1753=10, a1754=8, a1755=6, a1756=7, a1757=11, a1758=10, a1759=18, a1760=95, a1761=33, a1762=45, a1763=70, a1764=64, a1765=60, a1766=35, a1767=4, a1768=0, a1769=1, a1770=0, a1771=59, a1772=151, a1773=161, a1774=154, a1775=136, a1776=82, a1777=70, a1778=155, a1779=203, a1780=195, a1781=118, a1782=43, a1783=11, a1784=21, a1785=10, a1786=7, a1787=6, a1788=7, a1789=9, a1790=10, a1791=14, a1792=24, a1793=21, a1794=60, a1795=48, a1796=66, a1797=90, a1798=68, a1799=44, a1800=28, a1801=14, a1802=40, a1803=126, a1804=154, a1805=148, a1806=126, a1807=65, a1808=49, a1809=151, a1810=209, a1811=202, a1812=215, a1813=210, a1814=122, a1815=28, a1816=19, a1817=9, a1818=6, a1819=7, a1820=13, a1821=10, a1822=9, a1823=5, a1824=33, a1825=79, a1826=62, a1827=15, a1828=37, a1829=68, a1830=56, a1831=64, a1832=82, a1833=84, a1834=137, a1835=152, a1836=142, a1837=110, a1838=57, a1839=48, a1840=140, a1841=210, a1842=217, a1843=220, a1844=222, a1845=227, a1846=157, a1847=45, a1848=6, a1849=9, a1850=8, a1851=7, a1852=9, a1853=9, a1854=12, a1855=8, a1856=130, a1857=149, a1858=42, a1859=2, a1860=8, a1861=20, a1862=29, a1863=66, a1864=89, a1865=119, a1866=145, a1867=141, a1868=103, a1869=47, a1870=37, a1871=137, a1872=211, a1873=216, a1874=224, a1875=225, a1876=223, a1877=228, a1878=182, a1879=66, a1880=10, a1881=8, a1882=9, a1883=7, a1884=7, a1885=10, a1886=18, a1887=11, a1888=188, a1889=139, a1890=48, a1891=28, a1892=6, a1893=3, a1894=14, a1895=53, a1896=85, a1897=112, a1898=130, a1899=97, a1900=42, a1901=30, a1902=125, a1903=197, a1904=199, a1905=213, a1906=226, a1907=226, a1908=224, a1909=232, a1910=209, a1911=84, a1912=10, a1913=7, a1914=8, a1915=12, a1916=11, a1917=14, a1918=14, a1919=10, a1920=181, a1921=102, a1922=39, a1923=43, a1924=33, a1925=8, a1926=0, a1927=29, a1928=93, a1929=115, a1930=84, a1931=36, a1932=26, a1933=126, a1934=207, a1935=206, a1936=204, a1937=208, a1938=225, a1939=231, a1940=229, a1941=232, a1942=227, a1943=125, a1944=15, a1945=7, a1946=9, a1947=12, a1948=12, a1949=28, a1950=17, a1951=8, a1952=109, a1953=64, a1954=54, a1955=36, a1956=35, a1957=43, a1958=20, a1959=48, a1960=96, a1961=80, a1962=34, a1963=8, a1964=117, a1965=213, a1966=210, a1967=208, a1968=217, a1969=221, a1970=232, a1971=234, a1972=232, a1973=231, a1974=225, a1975=177, a1976=47, a1977=5, a1978=9, a1979=12, a1980=19, a1981=20, a1982=13, a1983=6, a1984=105, a1985=96, a1986=68, a1987=32, a1988=15, a1989=38, a1990=47, a1991=47, a1992=57, a1993=35, a1994=14, a1995=93, a1996=199, a1997=214, a1998=218, a1999=220, a2000=227, a2001=228, a2002=234, a2003=235, a2004=234, a2005=235, a2006=229, a2007=219, a2008=164, a2009=46, a2010=6, a2011=24, a2012=13, a2013=11, a2014=13, a2015=7, a2016=157, a2017=93, a2018=60, a2019=54, a2020=66, a2021=80, a2022=86, a2023=73, a2024=39, a2025=15, a2026=85, a2027=191, a2028=227, a2029=223, a2030=226, a2031=233, a2032=233, a2033=234, a2034=232, a2035=225, a2036=229, a2037=236, a2038=240, a2039=226, a2040=133, a2041=25, a2042=23, a2043=35, a2044=11, a2045=10, a2046=9, a2047=10, a2048=32, a2049=25, a2050=24, a2051=23, a2052=21, a2053=22, a2054=22, a2055=23, a2056=22, a2057=18, a2058=21, a2059=34, a2060=29, a2061=22, a2062=21, a2063=23, a2064=19, a2065=18, a2066=28, a2067=32, a2068=26, a2069=31, a2070=24, a2071=28, a2072=22, a2073=33, a2074=35, a2075=29, a2076=29, a2077=28, a2078=37, a2079=34, a2080=26, a2081=22, a2082=24, a2083=21, a2084=19, a2085=20, a2086=19, a2087=30, a2088=30, a2089=20, a2090=21, a2091=22, a2092=24, a2093=21, a2094=23, a2095=26, a2096=17, a2097=20, a2098=49, a2099=30, a2100=18, a2101=25, a2102=26, a2103=34, a2104=19, a2105=26, a2106=28, a2107=35, a2108=49, a2109=35, a2110=35, a2111=39, a2112=20, a2113=21, a2114=23, a2115=23, a2116=19, a2117=18, a2118=21, a2119=37, a2120=29, a2121=19, a2122=20, a2123=25, a2124=31, a2125=19, a2126=23, a2127=24, a2128=17, a2129=22, a2130=45, a2131=22, a2132=18, a2133=19, a2134=16, a2135=21, a2136=26, a2137=33, a2138=48, a2139=38, a2140=34, a2141=32, a2142=38, a2143=42, a2144=18, a2145=25, a2146=24, a2147=24, a2148=19, a2149=17, a2150=27, a2151=26, a2152=19, a2153=19, a2154=19, a2155=28, a2156=30, a2157=19, a2158=22, a2159=21, a2160=17, a2161=23, a2162=28, a2163=25, a2164=19, a2165=21, a2166=25, a2167=30, a2168=28, a2169=32, a2170=53, a2171=64, a2172=79, a2173=78, a2174=68, a2175=46, a2176=18, a2177=20, a2178=20, a2179=21, a2180=20, a2181=19, a2182=23, a2183=21, a2184=19, a2185=21, a2186=21, a2187=25, a2188=27, a2189=21, a2190=24, a2191=20, a2192=18, a2193=23, a2194=25, a2195=27, a2196=27, a2197=32, a2198=33, a2199=45, a2200=83, a2201=122, a2202=170, a2203=202, a2204=211, a2205=186, a2206=62, a2207=30, a2208=17, a2209=17, a2210=20, a2211=21, a2212=19, a2213=18, a2214=20, a2215=20, a2216=20, a2217=20, a2218=21, a2219=21, a2220=22, a2221=24, a2222=26, a2223=22, a2224=22, a2225=22, a2226=22, a2227=33, a2228=31, a2229=40, a2230=100, a2231=178, a2232=231, a2233=249, a2234=251, a2235=244, a2236=248, a2237=179, a2238=40, a2239=24, a2240=17, a2241=20, a2242=21, a2243=21, a2244=20, a2245=19, a2246=18, a2247=19, a2248=20, a2249=21, a2250=20, a2251=19, a2252=22, a2253=37, a2254=36, a2255=24, a2256=22, a2257=23, a2258=30, a2259=41, a2260=92, a2261=172, a2262=231, a2263=253, a2264=212, a2265=189, a2266=245, a2267=245, a2268=244, a2269=124, a2270=27, a2271=31, a2272=20, a2273=21, a2274=22, a2275=20, a2276=21, a2277=21, a2278=18, a2279=19, a2280=21, a2281=22, a2282=20, a2283=17, a2284=24, a2285=35, a2286=30, a2287=22, a2288=28, a2289=36, a2290=59, a2291=147, a2292=235, a2293=250, a2294=247, a2295=248, a2296=220, a2297=207, a2298=249, a2299=245, a2300=223, a2301=69, a2302=23, a2303=37, a2304=17, a2305=20, a2306=22, a2307=21, a2308=26, a2309=19, a2310=19, a2311=23, a2312=21, a2313=23, a2314=23, a2315=20, a2316=20, a2317=22, a2318=21, a2319=34, a2320=47, a2321=56, a2322=148, a2323=214, a2324=239, a2325=252, a2326=252, a2327=252, a2328=253, a2329=252, a2330=243, a2331=240, a2332=162, a2333=27, a2334=30, a2335=34, a2336=21, a2337=23, a2338=22, a2339=24, a2340=39, a2341=71, a2342=63, a2343=29, a2344=22, a2345=25, a2346=24, a2347=18, a2348=23, a2349=28, a2350=70, a2351=155, a2352=167, a2353=150, a2354=183, a2355=173, a2356=183, a2357=226, a2358=250, a2359=249, a2360=249, a2361=243, a2362=234, a2363=210, a2364=68, a2365=19, a2366=28, a2367=30, a2368=72, a2369=37, a2370=28, a2371=40, a2372=97, a2373=202, a2374=203, a2375=106, a2376=30, a2377=25, a2378=17, a2379=21, a2380=76, a2381=105, a2382=141, a2383=200, a2384=242, a2385=245, a2386=234, a2387=152, a2388=154, a2389=188, a2390=224, a2391=247, a2392=238, a2393=231, a2394=221, a2395=107, a2396=21, a2397=31, a2398=29, a2399=30, a2400=172, a2401=86, a2402=44, a2403=98, a2404=198, a2405=252, a2406=249, a2407=223, a2408=126, a2409=41, a2410=51, a2411=85, a2412=151, a2413=176, a2414=158, a2415=139, a2416=190, a2417=240, a2418=252, a2419=207, a2420=173, a2421=188, a2422=185, a2423=229, a2424=221, a2425=220, a2426=124, a2427=25, a2428=24, a2429=29, a2430=26, a2431=39, a2432=242, a2433=181, a2434=103, a2435=183, a2436=244, a2437=246, a2438=241, a2439=247, a2440=229, a2441=163, a2442=101, a2443=114, a2444=104, a2445=99, a2446=171, a2447=200, a2448=145, a2449=221, a2450=250, a2451=222, a2452=87, a2453=87, a2454=155, a2455=208, a2456=218, a2457=138, a2458=16, a2459=12, a2460=22, a2461=21, a2462=29, a2463=36, a2464=247, a2465=234, a2466=201, a2467=229, a2468=243, a2469=241, a2470=240, a2471=238, a2472=233, a2473=177, a2474=78, a2475=140, a2476=58, a2477=51, a2478=114, a2479=203, a2480=173, a2481=213, a2482=190, a2483=76, a2484=47, a2485=135, a2486=192, a2487=208, a2488=150, a2489=40, a2490=4, a2491=11, a2492=16, a2493=33, a2494=30, a2495=26, a2496=244, a2497=240, a2498=238, a2499=240, a2500=237, a2501=240, a2502=246, a2503=240, a2504=222, a2505=132, a2506=107, a2507=182, a2508=81, a2509=44, a2510=73, a2511=119, a2512=174, a2513=164, a2514=70, a2515=76, a2516=160, a2517=198, a2518=203, a2519=157, a2520=76, a2521=18, a2522=18, a2523=16, a2524=14, a2525=36, a2526=27, a2527=23, a2528=248, a2529=243, a2530=243, a2531=240, a2532=241, a2533=242, a2534=235, a2535=223, a2536=217, a2537=152, a2538=162, a2539=199, a2540=124, a2541=77, a2542=96, a2543=149, a2544=137, a2545=75, a2546=112, a2547=166, a2548=196, a2549=204, a2550=158, a2551=99, a2552=32, a2553=19, a2554=28, a2555=26, a2556=17, a2557=19, a2558=22, a2559=23, a2560=251, a2561=243, a2562=241, a2563=240, a2564=236, a2565=226, a2566=195, a2567=180, a2568=196, a2569=196, a2570=184, a2571=155, a2572=153, a2573=156, a2574=169, a2575=130, a2576=80, a2577=123, a2578=171, a2579=196, a2580=200, a2581=152, a2582=123, a2583=56, a2584=13, a2585=23, a2586=28, a2587=36, a2588=24, a2589=19, a2590=22, a2591=39, a2592=247, a2593=244, a2594=241, a2595=239, a2596=212, a2597=217, a2598=171, a2599=104, a2600=196, a2601=234, a2602=201, a2603=156, a2604=170, a2605=191, a2606=133, a2607=94, a2608=114, a2609=127, a2610=196, a2611=199, a2612=163, a2613=139, a2614=85, a2615=19, a2616=17, a2617=24, a2618=28, a2619=31, a2620=21, a2621=24, a2622=32, a2623=37, a2624=242, a2625=243, a2626=236, a2627=234, a2628=212, a2629=154, a2630=170, a2631=159, a2632=210, a2633=217, a2634=208, a2635=190, a2636=178, a2637=132, a2638=104, a2639=103, a2640=107, a2641=172, a2642=189, a2643=167, a2644=164, a2645=115, a2646=32, a2647=14, a2648=23, a2649=20, a2650=36, a2651=33, a2652=16, a2653=27, a2654=25, a2655=19, a2656=233, a2657=237, a2658=229, a2659=221, a2660=213, a2661=119, a2662=139, a2663=184, a2664=181, a2665=184, a2666=175, a2667=170, a2668=130, a2669=110, a2670=83, a2671=96, a2672=193, a2673=194, a2674=148, a2675=167, a2676=135, a2677=45, a2678=10, a2679=19, a2680=18, a2681=26, a2682=34, a2683=29, a2684=14, a2685=18, a2686=18, a2687=16, a2688=225, a2689=236, a2690=235, a2691=208, a2692=172, a2693=132, a2694=83, a2695=93, a2696=127, a2697=169, a2698=166, a2699=141, a2700=122, a2701=70, a2702=112, a2703=184, a2704=181, a2705=170, a2706=163, a2707=142, a2708=69, a2709=6, a2710=20, a2711=19, a2712=26, a2713=26, a2714=27, a2715=30, a2716=17, a2717=16, a2718=17, a2719=18, a2720=233, a2721=229, a2722=191, a2723=173, a2724=173, a2725=118, a2726=45, a2727=51, a2728=76, a2729=116, a2730=119, a2731=87, a2732=126, a2733=116, a2734=180, a2735=171, a2736=149, a2737=161, a2738=129, a2739=126, a2740=118, a2741=47, a2742=48, a2743=27, a2744=35, a2745=23, a2746=26, a2747=23, a2748=18, a2749=24, a2750=22, a2751=24, a2752=196, a2753=136, a2754=90, a2755=123, a2756=129, a2757=50, a2758=15, a2759=11, a2760=23, a2761=39, a2762=28, a2763=49, a2764=159, a2765=192, a2766=164, a2767=165, a2768=145, a2769=103, a2770=105, a2771=195, a2772=204, a2773=82, a2774=45, a2775=21, a2776=28, a2777=21, a2778=25, a2779=21, a2780=18, a2781=25, a2782=24, a2783=32, a2784=105, a2785=40, a2786=58, a2787=79, a2788=79, a2789=84, a2790=47, a2791=5, a2792=0, a2793=1, a2794=0, a2795=59, a2796=158, a2797=178, a2798=173, a2799=149, a2800=97, a2801=87, a2802=172, a2803=220, a2804=213, a2805=135, a2806=55, a2807=18, a2808=27, a2809=21, a2810=24, a2811=21, a2812=18, a2813=25, a2814=26, a2815=30, a2816=24, a2817=31, a2818=73, a2819=49, a2820=83, a2821=128, a2822=87, a2823=46, a2824=28, a2825=0, a2826=33, a2827=137, a2828=165, a2829=167, a2830=147, a2831=82, a2832=65, a2833=166, a2834=221, a2835=212, a2836=225, a2837=222, a2838=142, a2839=47, a2840=29, a2841=21, a2842=21, a2843=20, a2844=26, a2845=27, a2846=26, a2847=22, a2848=33, a2849=94, a2850=77, a2851=14, a2852=44, a2853=91, a2854=71, a2855=70, a2856=88, a2857=77, a2858=137, a2859=169, a2860=158, a2861=126, a2862=75, a2863=66, a2864=155, a2865=223, a2866=227, a2867=227, a2868=228, a2869=234, a2870=178, a2871=69, a2872=20, a2873=21, a2874=21, a2875=20, a2876=23, a2877=26, a2878=29, a2879=25, a2880=139, a2881=168, a2882=57, a2883=4, a2884=8, a2885=21, a2886=34, a2887=72, a2888=105, a2889=143, a2890=166, a2891=155, a2892=118, a2893=62, a2894=53, a2895=153, a2896=225, a2897=228, a2898=234, a2899=232, a2900=228, a2901=233, a2902=198, a2903=87, a2904=23, a2905=20, a2906=22, a2907=20, a2908=21, a2909=27, a2910=35, a2911=28, a2912=203, a2913=163, a2914=67, a2915=34, a2916=5, a2917=0, a2918=12, a2919=59, a2920=110, a2921=148, a2922=161, a2923=114, a2924=56, a2925=44, a2926=139, a2927=209, a2928=212, a2929=226, a2930=236, a2931=234, a2932=229, a2933=234, a2934=220, a2935=104, a2936=24, a2937=20, a2938=21, a2939=25, a2940=25, a2941=30, a2942=30, a2943=27, a2944=199, a2945=131, a2946=65, a2947=57, a2948=43, a2949=15, a2950=0, a2951=39, a2952=123, a2953=144, a2954=110, a2955=58, a2956=41, a2957=139, a2958=218, a2959=217, a2960=217, a2961=221, a2962=235, a2963=239, a2964=234, a2965=232, a2966=236, a2967=142, a2968=29, a2969=20, a2970=21, a2971=25, a2972=25, a2973=44, a2974=34, a2975=25, a2976=137, a2977=95, a2978=90, a2979=57, a2980=46, a2981=55, a2982=28, a2983=64, a2984=126, a2985=105, a2986=53, a2987=23, a2988=130, a2989=226, a2990=222, a2991=219, a2992=228, a2993=232, a2994=241, a2995=243, a2996=238, a2997=234, a2998=233, a2999=190, a3000=59, a3001=15, a3002=17, a3003=23, a3004=35, a3005=37, a3006=30, a3007=23, a3008=141, a3009=139, a3010=110, a3011=64, a3012=42, a3013=66, a3014=74, a3015=77, a3016=85, a3017=55, a3018=27, a3019=104, a3020=211, a3021=226, a3022=229, a3023=231, a3024=236, a3025=237, a3026=243, a3027=244, a3028=241, a3029=242, a3030=238, a3031=230, a3032=173, a3033=54, a3034=12, a3035=34, a3036=30, a3037=28, a3038=30, a3039=24, a3040=196, a3041=149, a3042=106, a3043=94, a3044=109, a3045=121, a3046=127, a3047=111, a3048=64, a3049=25, a3050=94, a3051=206, a3052=237, a3053=232, a3054=235, a3055=242, a3056=242, a3057=243, a3058=241, a3059=234, a3060=237, a3061=244, a3062=250, a3063=237, a3064=144, a3065=33, a3066=29, a3067=46, a3068=28, a3069=27, a3070=26, a3071=27)\n",
      "<class 'pandas.core.frame.Pandas'>\n"
     ]
    }
   ],
   "source": [
    "for line in X.head(1).itertuples():\n",
    "    print(line)\n",
    "    print(type(line))\n"
   ]
  },
  {
   "cell_type": "code",
   "execution_count": 31,
   "metadata": {},
   "outputs": [
    {
     "name": "stdout",
     "output_type": "stream",
     "text": [
      "0 a0       26\n",
      "a1       17\n",
      "a2       13\n",
      "a3       13\n",
      "a4       13\n",
      "         ..\n",
      "a3067    46\n",
      "a3068    28\n",
      "a3069    27\n",
      "a3070    26\n",
      "a3071    27\n",
      "Name: 0, Length: 3072, dtype: uint8\n",
      "<class 'pandas.core.series.Series'>\n",
      "a0 26\n",
      "<class 'int'>\n"
     ]
    }
   ],
   "source": [
    "for i, index in X.head(1).iterrows():\n",
    "    print(i, index)\n",
    "    print(type(index))\n",
    "    for key, value in index.items():\n",
    "        print(key, value)\n",
    "        print(type(value))\n",
    "        break"
   ]
  },
  {
   "cell_type": "code",
   "execution_count": 18,
   "metadata": {},
   "outputs": [
    {
     "data": {
      "text/plain": [
       "0    8\n",
       "1    5\n",
       "2    0\n",
       "3    6\n",
       "4    9\n",
       "Name: class, dtype: category\n",
       "Categories (10, object): ['0' < '1' < '2' < '3' ... '6' < '7' < '8' < '9']"
      ]
     },
     "execution_count": 18,
     "metadata": {},
     "output_type": "execute_result"
    }
   ],
   "source": [
    "y.head()"
   ]
  },
  {
   "cell_type": "code",
   "execution_count": 19,
   "metadata": {},
   "outputs": [
    {
     "data": {
      "text/plain": [
       "pandas.core.series.Series"
      ]
     },
     "execution_count": 19,
     "metadata": {},
     "output_type": "execute_result"
    }
   ],
   "source": [
    "type(y.head())"
   ]
  },
  {
   "cell_type": "code",
   "execution_count": 20,
   "metadata": {},
   "outputs": [],
   "source": [
    "#dataset.get_data(dataset_format=\"dataframe\")[2]"
   ]
  },
  {
   "cell_type": "code",
   "execution_count": 21,
   "metadata": {},
   "outputs": [],
   "source": [
    "#dataset.get_data(dataset_format=\"dataframe\")[3]"
   ]
  },
  {
   "cell_type": "code",
   "execution_count": null,
   "metadata": {},
   "outputs": [],
   "source": [
    " \n",
    " \n",
    " \n",
    "from sklearn import ensemble\n",
    "from openml import tasks, runs\n",
    " \n",
    "# Build any model you like\n",
    "clf = ensemble.RandomForestClassifier()\n",
    " \n",
    "# Download any OpenML task\n",
    "task = tasks.get_task(3954)\n",
    " \n",
    "# Run and evaluate your model on the task\n",
    "run = runs.run_model_on_task(clf, task)\n",
    " \n",
    "# Share the results on OpenML. Your API key can be found in your account.\n",
    "# openml.config.apikey = 'YOUR_KEY'\n",
    "run.publish()\n",
    " \n",
    " \n",
    "# List all tasks in a benchmark\n",
    "benchmark = openml.study.get_suite('OpenML-CC18')\n",
    "tasks.list_tasks(output_format=\"dataframe\", task_id=benchmark.tasks)\n",
    " \n",
    "# Return benchmark results\n",
    "openml.evaluations.list_evaluations(\n",
    "    function=\"area_under_roc_curve\", \n",
    "    tasks=benchmark.tasks, \n",
    "    output_format=\"dataframe\"\n",
    ")\n",
    " \n",
    " "
   ]
  }
 ],
 "metadata": {
  "kernelspec": {
   "display_name": "paper",
   "language": "python",
   "name": "python3"
  },
  "language_info": {
   "codemirror_mode": {
    "name": "ipython",
    "version": 3
   },
   "file_extension": ".py",
   "mimetype": "text/x-python",
   "name": "python",
   "nbconvert_exporter": "python",
   "pygments_lexer": "ipython3",
   "version": "3.10.6"
  }
 },
 "nbformat": 4,
 "nbformat_minor": 2
}
